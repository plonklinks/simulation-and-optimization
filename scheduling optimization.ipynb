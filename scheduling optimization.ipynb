{
 "cells": [
  {
   "cell_type": "code",
   "execution_count": 5,
   "id": "d1b9d83b-039b-428c-b770-7bb6da4d2e0f",
   "metadata": {},
   "outputs": [
    {
     "name": "stdout",
     "output_type": "stream",
     "text": [
      "✅ 找到最小总工时排班方案：\n",
      "\n",
      "第 1 天: 早班 3 人，晚班 3 人，合计 24 小时\n",
      "第 2 天: 早班 2 人，晚班 4 人，合计 24 小时\n",
      "第 3 天: 早班 2 人，晚班 4 人，合计 24 小时\n",
      "第 4 天: 早班 5 人，晚班 1 人，合计 24 小时\n",
      "第 5 天: 早班 2 人，晚班 4 人，合计 24 小时\n",
      "第 6 天: 早班 4 人，晚班 2 人，合计 24 小时\n",
      "\n",
      "🔢 最小总工作时间: 144 小时\n"
     ]
    }
   ],
   "source": [
    "import pulp\n",
    "\n",
    "# Parameters\n",
    "num_people = 6\n",
    "num_days = 6\n",
    "hours_early = 4\n",
    "hours_late = 4\n",
    "\n",
    "# Initialize the model\n",
    "model = pulp.LpProblem(\"Min_Total_Working_Hours\", pulp.LpMinimize)\n",
    "\n",
    "# Decision variables: x[i][d][s] indicates whether person i works shift s on day d (s=0 for early, s=1 for late)\n",
    "x = [[[pulp.LpVariable(f\"x_{i}_{d}_{s}\", cat='Binary') for s in range(2)]\n",
    "      for d in range(num_days)] for i in range(num_people)]\n",
    "\n",
    "# Objective function: minimize total working hours\n",
    "model += pulp.lpSum(\n",
    "    x[i][d][0] * hours_early + x[i][d][1] * hours_late\n",
    "    for i in range(num_people)\n",
    "    for d in range(num_days)\n",
    ")\n",
    "\n",
    "# Constraint 1: each person can work at most one shift per day\n",
    "for i in range(num_people):\n",
    "    for d in range(num_days):\n",
    "        model += x[i][d][0] + x[i][d][1] <= 1\n",
    "\n",
    "# Constraint 2: each shift must have at least one worker per day\n",
    "for d in range(num_days):\n",
    "    model += pulp.lpSum(x[i][d][0] for i in range(num_people)) >= 1  # Early shift\n",
    "    model += pulp.lpSum(x[i][d][1] for i in range(num_people)) >= 1  # Late shift\n",
    "\n",
    "# Constraint 3: exactly 6 people must work each day\n",
    "for d in range(num_days):\n",
    "    model += pulp.lpSum(x[i][d][0] + x[i][d][1] for i in range(num_people)) == 6\n",
    "\n",
    "# Solve the model\n",
    "solver = pulp.PULP_CBC_CMD()\n",
    "result = model.solve(solver)\n",
    "\n",
    "# Output shift counts per day\n",
    "if result == pulp.LpStatusOptimal:\n",
    "    print(\"Optimal shift schedule found:\\n\")\n",
    "    total_hours = 0\n",
    "    for d in range(num_days):\n",
    "        early_count = sum(pulp.value(x[i][d][0]) for i in range(num_people))\n",
    "        late_count  = sum(pulp.value(x[i][d][1]) for i in range(num_people))\n",
    "        day_hours = early_count * hours_early + late_count * hours_late\n",
    "        total_hours += day_hours\n",
    "        print(f\"Day {d+1}: Early shift - {int(early_count)} workers, Late shift - {int(late_count)} workers, Total {int(day_hours)} hours\")\n",
    "    print(f\"\\n Minimum total working hours: {int(total_hours)} hours\")\n",
    "else:\n",
    "    print(\"No feasible solution found.\")\n"
   ]
  }
 ],
 "metadata": {
  "kernelspec": {
   "display_name": "Python 3 (ipykernel)",
   "language": "python",
   "name": "python3"
  },
  "language_info": {
   "codemirror_mode": {
    "name": "ipython",
    "version": 3
   },
   "file_extension": ".py",
   "mimetype": "text/x-python",
   "name": "python",
   "nbconvert_exporter": "python",
   "pygments_lexer": "ipython3",
   "version": "3.13.2"
  }
 },
 "nbformat": 4,
 "nbformat_minor": 5
}
